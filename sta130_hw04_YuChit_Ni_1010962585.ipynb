{
 "cells": [
  {
   "cell_type": "markdown",
   "id": "2bafaab6",
   "metadata": {},
   "source": [
    "#### 1. The \"Pre-lecture\" video (above) mentioned the \"standard error of the mean\" as being the \"standard deviation\" of the distribution bootstrapped means.  What is the difference between the \"standard error of the mean\" and the \"standard deviation\" of the original data? What distinct ideas do each of these capture? Explain this concisely in your own words.<br>"
   ]
  },
  {
   "cell_type": "markdown",
   "id": "508ca586",
   "metadata": {},
   "source": [
    "The standard error of the mean shows the difference between the sample mean and the true population mean; the smaller the number, the more accurate it is, and the larger the number, the less accurate it is. The standard deviation measures the dispersion of individual data points. it shows the difference between the individual data points and the mean. The smaller the number, the closer it is to the mean, and the larger the number, the more it deviates from the mean.\n"
   ]
  },
  {
   "cell_type": "markdown",
   "id": "b555eb5e",
   "metadata": {},
   "source": [
    "#### 2. The \"Pre-lecture\" video (above) suggested that the \"standard error of the mean\" could be used to create a confidence interval, but didn't describe exactly how to do this.  How can we use the \"standard error of the mean\" to create a 95% confidence interval which \"covers 95% of the bootstrapped sample means\"? Explain this concisely in your own words.<br>"
   ]
  },
  {
   "cell_type": "markdown",
   "id": "3bfdce18",
   "metadata": {},
   "source": [
    "by using many formulas to calculate.\n"
   ]
  },
  {
   "cell_type": "markdown",
   "id": "d6e1d865",
   "metadata": {},
   "source": [
    "chatbot summary: In this session, we discussed how to use the **standard error of the mean (SEM)** to create a **95% confidence interval** for bootstrapped sample means. Here's the summary:\n",
    "\n",
    "1. **Constructing a 95% Confidence Interval**:\n",
    "   - Bootstrap multiple resamples from your data and calculate the mean of each resample.\n",
    "   - Calculate the SEM from the bootstrapped sample means.\n",
    "   - Use the formula for the confidence interval: \n",
    "     \\[\n",
    "     \\text{CI} = \\bar{x} \\pm Z \\times \\text{SEM}\n",
    "     \\]\n",
    "     where \\(\\bar{x}\\) is the original sample mean and \\(Z\\) is the Z-score.\n",
    "\n",
    "2. **Role of the Z-Score**:\n",
    "   - The Z-score controls the width of the confidence interval. For a **95% confidence level**, the Z-score is **1.96**, covering the central 95% of a normal distribution.\n",
    "   - The Z-score is multiplied by the SEM to determine how far to extend the confidence interval above and below the sample mean.\n",
    "\n",
    "The Z-score plays a critical role in scaling the SEM to provide the desired confidence interval coverage."
   ]
  },
  {
   "cell_type": "markdown",
   "id": "3198db90",
   "metadata": {},
   "source": [
    "chatbot link: https://chatgpt.com/share/66fde9a1-47c0-8002-bb24-c5f1e7ed3330/\n"
   ]
  },
  {
   "cell_type": "markdown",
   "id": "3096be0c",
   "metadata": {},
   "source": [
    "#### 4. The \"Pre-lecture\" video (above) mentioned that bootstrap confidence intervals could apply to other statistics of the sample, such as the \"median\". Work with a ChatBot to create code to produce a 95% bootstrap confidence interval for a population mean based on a sample that you have and comment the code to demonstrate how the code can be changed to produce a 95% bootstrap confidence interval for different population parameter (other than the population mean, such as the population median).<br>"
   ]
  },
  {
   "cell_type": "markdown",
   "id": "a19a332f",
   "metadata": {},
   "source": [
    "Session Summary:\n",
    "In this session, you asked for Python code that calculates a 95% bootstrap confidence interval for a population mean. I provided a script that uses bootstrap resampling to calculate this confidence interval. Additionally, you requested instructions on how to modify the code to calculate a confidence interval for other population parameters, such as the median. I explained how to make this modification and provided an example for calculating the confidence interval for the median.\n",
    "\n",
    "Python Code:"
   ]
  },
  {
   "cell_type": "code",
   "execution_count": 1,
   "id": "7bba5b07",
   "metadata": {},
   "outputs": [
    {
     "name": "stdout",
     "output_type": "stream",
     "text": [
      "95% Bootstrap Confidence Interval for the Mean: (12.6, 16.3)\n",
      "95% Bootstrap Confidence Interval for the Median: (12.0, 17.0)\n"
     ]
    }
   ],
   "source": [
    "import numpy as np\n",
    "\n",
    "# Function to calculate bootstrap confidence interval for population mean\n",
    "def bootstrap_confidence_interval(data, num_bootstrap_samples=1000, ci=95):\n",
    "    \"\"\"\n",
    "    Function to compute a bootstrap confidence interval for the population mean.\n",
    "    \n",
    "    :param data: The original sample data (array-like)\n",
    "    :param num_bootstrap_samples: Number of bootstrap resamples (default: 1000)\n",
    "    :param ci: Confidence interval percentage (default: 95)\n",
    "    \n",
    "    :return: Lower and upper bounds of the confidence interval\n",
    "    \"\"\"\n",
    "    # Create an empty list to store bootstrap sample means\n",
    "    bootstrap_means = []\n",
    "    \n",
    "    # Generate bootstrap samples\n",
    "    for _ in range(num_bootstrap_samples):\n",
    "        # Resample data with replacement\n",
    "        bootstrap_sample = np.random.choice(data, size=len(data), replace=True)\n",
    "        # Calculate the mean of the bootstrap sample\n",
    "        sample_mean = np.mean(bootstrap_sample)\n",
    "        # Append the sample mean to the list\n",
    "        bootstrap_means.append(sample_mean)\n",
    "    \n",
    "    # Calculate percentiles for the confidence interval\n",
    "    lower_bound = np.percentile(bootstrap_means, (100 - ci) / 2)\n",
    "    upper_bound = np.percentile(bootstrap_means, 100 - (100 - ci) / 2)\n",
    "    \n",
    "    return lower_bound, upper_bound\n",
    "\n",
    "# Example data\n",
    "data = np.array([12, 15, 14, 10, 18, 13, 17, 16, 19, 11])\n",
    "\n",
    "# Calculate 95% bootstrap confidence interval for the mean\n",
    "lower_ci, upper_ci = bootstrap_confidence_interval(data)\n",
    "print(f\"95% Bootstrap Confidence Interval for the Mean: ({lower_ci}, {upper_ci})\")\n",
    "\n",
    "# To calculate for different population parameters, such as the median:\n",
    "# 1. Replace np.mean() with the appropriate statistic, e.g., np.median().\n",
    "\n",
    "def bootstrap_confidence_interval_median(data, num_bootstrap_samples=1000, ci=95):\n",
    "    \"\"\"\n",
    "    Function to compute a bootstrap confidence interval for the population median.\n",
    "    \n",
    "    :param data: The original sample data (array-like)\n",
    "    :param num_bootstrap_samples: Number of bootstrap resamples (default: 1000)\n",
    "    :param ci: Confidence interval percentage (default: 95)\n",
    "    \n",
    "    :return: Lower and upper bounds of the confidence interval for the median\n",
    "    \"\"\"\n",
    "    # Create an empty list to store bootstrap sample medians\n",
    "    bootstrap_medians = []\n",
    "    \n",
    "    # Generate bootstrap samples\n",
    "    for _ in range(num_bootstrap_samples):\n",
    "        # Resample data with replacement\n",
    "        bootstrap_sample = np.random.choice(data, size=len(data), replace=True)\n",
    "        # Calculate the median of the bootstrap sample\n",
    "        sample_median = np.median(bootstrap_sample)\n",
    "        # Append the sample median to the list\n",
    "        bootstrap_medians.append(sample_median)\n",
    "    \n",
    "    # Calculate percentiles for the confidence interval\n",
    "    lower_bound = np.percentile(bootstrap_medians, (100 - ci) / 2)\n",
    "    upper_bound = np.percentile(bootstrap_medians, 100 - (100 - ci) / 2)\n",
    "    \n",
    "    return lower_bound, upper_bound\n",
    "\n",
    "# Calculate 95% bootstrap confidence interval for the median\n",
    "lower_ci_median, upper_ci_median = bootstrap_confidence_interval_median(data)\n",
    "print(f\"95% Bootstrap Confidence Interval for the Median: ({lower_ci_median}, {upper_ci_median})\")\n"
   ]
  },
  {
   "cell_type": "markdown",
   "id": "d0bcb072",
   "metadata": {},
   "source": [
    "This script includes both the confidence interval for the mean and a modification for the median. You can easily adapt it to calculate confidence intervals for other parameters by modifying the statistic within the resampling loop."
   ]
  },
  {
   "cell_type": "markdown",
   "id": "35e683f5",
   "metadata": {},
   "source": [
    "chatbot link: https://chatgpt.com/share/66fdf1f3-e2d0-8002-a4ff-30c3a0479d33"
   ]
  },
  {
   "cell_type": "markdown",
   "id": "646595c8",
   "metadata": {},
   "source": [
    "#### 5. The previous question addresses making a confidence interval for a population parameter based on a sample statistic. Why do we need to distinguish between the role of the popualation parameter and the sample sample statistic when it comes to confidence intervals? Explain this concisely in your own words.<br>"
   ]
  },
  {
   "cell_type": "markdown",
   "id": "231d55aa",
   "metadata": {},
   "source": [
    "population parameter and sample statistic have different meanings. population parameter is a fixed value, and which is usually unknown. sample statistic can be calculated and is a dependent value. therefore to distinguish the role between these two is important to see if we are estimating the correct value."
   ]
  },
  {
   "cell_type": "markdown",
   "id": "316a597f",
   "metadata": {},
   "source": [
    "#### 6. Provide written answers explaining the answers to the following questions in an informal manner of a conversation with a friend with little experience with statistics. <br>"
   ]
  },
  {
   "cell_type": "markdown",
   "id": "b52bbd93",
   "metadata": {},
   "source": [
    "1. What is the process of bootstrapping? \n"
   ]
  },
  {
   "cell_type": "markdown",
   "id": "bb788aad",
   "metadata": {},
   "source": [
    "say that you have a dataset, and then you pick the same amount of numbers of the dataset to replace them, which one number can appear once or more times in the new dataset. then you calculate the mean of each bootstrap sample."
   ]
  },
  {
   "cell_type": "markdown",
   "id": "90733e70",
   "metadata": {},
   "source": [
    "2. What is the main purpose of bootstrapping? \n"
   ]
  },
  {
   "cell_type": "markdown",
   "id": "0a83a276",
   "metadata": {},
   "source": [
    "the main purpose of it is to estimate the accuracy of a statistical measures like mean, median and variance without using complex formulas. "
   ]
  },
  {
   "cell_type": "markdown",
   "id": "d646f9cc",
   "metadata": {},
   "source": [
    "3. If you had a (hypothesized) guess about what the average of a population was, and you had a sample of size n from that population, how could you use bootstrapping to assess whether or not your (hypothesized) guess might be plausible?"
   ]
  },
  {
   "cell_type": "markdown",
   "id": "6a291403",
   "metadata": {},
   "source": [
    "first is to make replacement from the sample data, then calculate the sample means. therefore we can draw a graph to compare the hypothesized mean to the bootstrap distribution. the last is to see if the ‘mu’ lies within the 95% confidence interval, if yes, the hypothesized population mean is plausible."
   ]
  },
  {
   "cell_type": "markdown",
   "id": "368992e0",
   "metadata": {},
   "source": [
    "#### 7. The \"Pre-lecture\" video (above) introduced hypothesis testing by saying that \"the confidence interval covers zero, so we cannot reject the hypothesis that the drug is **[on average]** not doing anything\".  This conclusion could be referred to as \"failing to reject the null hypothesis\", where the term \"null\" refers to the concept of \"no effect **[on average]**\".  Why does a confidence interval overlapping zero \"fail to reject the null hypothesis\" when the observed sample mean statistic itself is not zero? Alternatively, what would lead to the opposite conclusion in this context; namely, instead choosing \"to reject the null hypothesis\"? Explain the answers to these questions concisely in your own words.<br>"
   ]
  },
  {
   "cell_type": "markdown",
   "id": "b297da7d",
   "metadata": {},
   "source": [
    "due to confidence interval provides true population parameter, which provides a range of plausible. therefore, the reason that we don't have enough evidence to reject the null hypothesis, is that we can't say that the true effect is different from 0."
   ]
  },
  {
   "cell_type": "markdown",
   "id": "f23d6471",
   "metadata": {},
   "source": [
    "#### 9. Have you reviewed the course wiki-textbook and interacted with a ChatBot (or, if that wasn't sufficient, real people in the course piazza discussion board or TA office hours) to help you understand all the material in the tutorial and lecture that you didn't quite follow when you first saw it?<br>"
   ]
  },
  {
   "cell_type": "markdown",
   "id": "db6c19c3",
   "metadata": {},
   "source": [
    "YeS"
   ]
  },
  {
   "cell_type": "code",
   "execution_count": null,
   "id": "69679267",
   "metadata": {},
   "outputs": [],
   "source": []
  }
 ],
 "metadata": {
  "kernelspec": {
   "display_name": "Python 3 (ipykernel)",
   "language": "python",
   "name": "python3"
  },
  "language_info": {
   "codemirror_mode": {
    "name": "ipython",
    "version": 3
   },
   "file_extension": ".py",
   "mimetype": "text/x-python",
   "name": "python",
   "nbconvert_exporter": "python",
   "pygments_lexer": "ipython3",
   "version": "3.11.6"
  }
 },
 "nbformat": 4,
 "nbformat_minor": 5
}
