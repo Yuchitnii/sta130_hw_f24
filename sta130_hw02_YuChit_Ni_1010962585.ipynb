{
 "cells": [
  {
   "cell_type": "markdown",
   "id": "cf0d65f9",
   "metadata": {},
   "source": [
    "#### 3. Submit your preferred version of the Monty Hall problem that is verified to be running and working with a final printed output of the code; then, add code comments explaining the purpose of each line of the code<br>"
   ]
  },
  {
   "cell_type": "code",
   "execution_count": 1,
   "id": "656e9989",
   "metadata": {},
   "outputs": [
    {
     "name": "stdout",
     "output_type": "stream",
     "text": [
      "Win rate when switching: 0.6672\n"
     ]
    }
   ],
   "source": [
    "import numpy as np \n",
    "\n",
    "# Parameters\n",
    "all_doors = np.array([1, 2, 3]) #don't need other lists of conversations\n",
    "reps = 100000 #set a number of repetitions to make sure the result is accurate\n",
    "initial_choice = 1 #the chosen door\n",
    "\n",
    "# Simulation\n",
    "wins = 0 #number of times the contestant wins\n",
    "\n",
    "for _ in range(reps):\n",
    "    winning_door = np.random.choice(all_doors) #choose the winning door by using 'np.random.choice(all_doors)'\n",
    "    \n",
    "    #host removes a door with a goat, not the chosen and the winning door\n",
    "    available_doors = all_doors[all_doors != initial_choice] \n",
    "    goat_reveal = np.random.choice(available_doors[available_doors != winning_door]) \n",
    "    \n",
    "\n",
    "    # Contestant switches to the remaining door\n",
    "    switch_choice = [door for door in all_doors if door != initial_choice and door != goat_reveal][0]\n",
    "    \n",
    "    # Check if switch results in a win\n",
    "    if switch_choice == winning_door:\n",
    "        wins += 1\n",
    "\n",
    "# Output win rate\n",
    "win_rate = wins / reps\n",
    "print(f\"Win rate when switching: {win_rate:.4f}\")\n"
   ]
  },
  {
   "cell_type": "markdown",
   "id": "076f99a6",
   "metadata": {},
   "source": [
    "### Session Summary:\n",
    "\n",
    "In this session, we discussed a Monte Hall simulation and streamlined its code for better readability and efficiency.\n",
    "\n",
    "1. **Initial Monte Hall Code**:\n",
    "   - The provided code simulates the Monty Hall problem by making a contestant initially pick a door, and then the host reveals a door with a goat.\n",
    "   - The contestant always switches doors, and the simulation counts how often this strategy leads to winning.\n",
    "\n",
    "2. **Improvements**:\n",
    "   - We simplified the code to avoid unnecessary list manipulations, used more efficient array operations, and made the switching logic clearer.\n",
    "   - The final code is concise, improving both performance and readability."
   ]
  },
  {
   "cell_type": "code",
   "execution_count": 10,
   "id": "06dec851",
   "metadata": {},
   "outputs": [
    {
     "ename": "SyntaxError",
     "evalue": "invalid syntax (2191767064.py, line 4)",
     "output_type": "error",
     "traceback": [
      "\u001b[0;36m  Cell \u001b[0;32mIn[10], line 4\u001b[0;36m\u001b[0m\n\u001b[0;31m    ```python\u001b[0m\n\u001b[0m    ^\u001b[0m\n\u001b[0;31mSyntaxError\u001b[0m\u001b[0;31m:\u001b[0m invalid syntax\n"
     ]
    }
   ],
   "source": [
    "### Codes:\n",
    "\n",
    "#### **Original Monte Hall Simulation Code:** \n",
    "```python\n",
    "import numpy as np\n",
    "all_door_options = (1, 2, 3)  # tuple\n",
    "my_door_choice = 1  # 1, 2, 3\n",
    "i_won = 0\n",
    "reps = 100000\n",
    "for i in range(reps):\n",
    "    secret_winning_door = np.random.choice(all_door_options)\n",
    "    all_door_options_list = list(all_door_options)\n",
    "    all_door_options_list.remove(secret_winning_door)\n",
    "    try:\n",
    "        all_door_options_list.remove(my_door_choice)\n",
    "    except:\n",
    "        pass\n",
    "    goat_door_reveal = np.random.choice(all_door_options_list)\n",
    "    all_door_options_list.remove(goat_door_reveal)\n",
    "\n",
    "    if secret_winning_door != my_door_choice:\n",
    "        all_door_options_list.append(secret_winning_door)\n",
    "\n",
    "    my_door_choice = all_door_options_list[0]\n",
    "\n",
    "    if my_door_choice == secret_winning_door:\n",
    "        i_won += 1\n",
    "\n",
    "i_won / reps"
   ]
  },
  {
   "cell_type": "code",
   "execution_count": 9,
   "id": "790d7d20",
   "metadata": {},
   "outputs": [
    {
     "ename": "SyntaxError",
     "evalue": "invalid syntax (3962774341.py, line 2)",
     "output_type": "error",
     "traceback": [
      "\u001b[0;36m  Cell \u001b[0;32mIn[9], line 2\u001b[0;36m\u001b[0m\n\u001b[0;31m    ```python\u001b[0m\n\u001b[0m    ^\u001b[0m\n\u001b[0;31mSyntaxError\u001b[0m\u001b[0;31m:\u001b[0m invalid syntax\n"
     ]
    }
   ],
   "source": [
    "#### **Streamlined Monte Hall Simulation Code:**\n",
    "```python\n",
    "import numpy as np\n",
    "\n",
    "# Parameters\n",
    "all_doors = np.array([1, 2, 3])\n",
    "reps = 100000\n",
    "initial_choice = 1\n",
    "\n",
    "# Simulation\n",
    "wins = 0\n",
    "\n",
    "for _ in range(reps):\n",
    "    winning_door = np.random.choice(all_doors)\n",
    "    \n",
    "    # Host reveals a door with a goat (not the chosen or winning door)\n",
    "    available_doors = all_doors[all_doors != initial_choice]\n",
    "    goat_reveal = np.random.choice(available_doors[available_doors != winning_door])\n",
    "\n",
    "    # Contestant switches to the remaining door\n",
    "    switch_choice = [door for door in all_doors if door != initial_choice and door != goat_reveal][0]\n",
    "    \n",
    "    # Check if switch results in a win\n",
    "    if switch_choice == winning_door:\n",
    "        wins += 1\n",
    "\n",
    "# Output win rate\n",
    "win_rate = wins / reps\n",
    "print(f\"Win rate when switching: {win_rate:.4f}\")\n",
    "```\n",
    "\n",
    "Both versions simulate the Monty Hall problem, but the streamlined version reduces complexity and improves efficiency."
   ]
  },
  {
   "cell_type": "markdown",
   "id": "3109f845",
   "metadata": {},
   "source": [
    "https://chatgpt.com/share/66ec6f72-7aa8-8010-9943-576f1afe8565"
   ]
  },
  {
   "cell_type": "markdown",
   "id": "cff265ba",
   "metadata": {},
   "source": [
    "#### 6. Report on your experience interacting with ChatBots to understand the Monte Hall problem and \"Markovian ChatBot\" code\n"
   ]
  },
  {
   "cell_type": "markdown",
   "id": "237fc983",
   "metadata": {},
   "source": [
    "1. Discuss how quickly the ChatBot was able to be helpful for each of the above questions, and if so, how?<br><br>"
   ]
  },
  {
   "cell_type": "markdown",
   "id": "f4cb4d0a",
   "metadata": {},
   "source": [
    "the chatbot is providing results to me very rapidly. because if I am googling the questions i have, I have to see many resources about the question then collect to having a summary. and by using the chatbot, i can see the results right away and study them."
   ]
  },
  {
   "cell_type": "markdown",
   "id": "4dcfee9b",
   "metadata": {},
   "source": [
    "2. Discuss whether or not interacting with ChatBot to try to figure things out was frustrating or unhelpful, and if so, how?<br><br>"
   ]
  },
  {
   "cell_type": "markdown",
   "id": "266c899f",
   "metadata": {},
   "source": [
    "sometimes the chatbot are not replying the correct answer to me, and that makes when I am learning, i have no idea if the chatbot is saying the right thing."
   ]
  },
  {
   "cell_type": "markdown",
   "id": "4cbe144f",
   "metadata": {},
   "source": [
    "3. Based on your experiences to date (e.g., including using ChatBots to troubleshoot coding errors in the previous homework), provide an overall assessment evaluating the usefulness of ChatBots as tools to help you understand code<br>"
   ]
  },
  {
   "cell_type": "markdown",
   "id": "6983c645",
   "metadata": {},
   "source": [
    "in many ways, the chatbot is very useful for learning. that i don't have to wait for a long time to recieve people's reply. i can just know the answer right away."
   ]
  },
  {
   "cell_type": "markdown",
   "id": "2e73a1ff",
   "metadata": {},
   "source": [
    "#### 7. Reflect on your experience interacting with ChatBot and describe how your perception of AI-driven assistance tools in the context of learning coding, statistics, and data science has been evolving (or not) since joining the course<br><br>"
   ]
  },
  {
   "cell_type": "markdown",
   "id": "36f68aad",
   "metadata": {},
   "source": [
    "my perception of AI-powered tools has not changed, it has always been an aid to learning for me. whether it's used as a google or to help me solve some problem i'm having, it's a learning tool that can be used to make me progress. because I can learn a lot of knowledge from it."
   ]
  },
  {
   "cell_type": "markdown",
   "id": "1e4e9b8e",
   "metadata": {},
   "source": [
    "#### 8. ChatBots consume text data available on the web or platforms, and thus represents a new way to \"search consensensus\" that condenses and summarizes mainstream human thought<br><br>\n"
   ]
  },
  {
   "cell_type": "markdown",
   "id": "3c725096",
   "metadata": {},
   "source": [
    "3. Ask for a summary of this ChatBot session and paste it into your homework notebook (including link(s) to chat log histories if you're using ChatBot)<br><br>"
   ]
  },
  {
   "cell_type": "markdown",
   "id": "eb033d45",
   "metadata": {},
   "source": [
    "In this session, we discussed the importance of **learning and adaptability, communication, coding, and statistics and data analysis** as key skills for modern careers, especially in the data science industry. These skills are essential for staying relevant, extracting meaningful insights, and effectively collaborating across teams.\n",
    "\n",
    "You asked whether it's possible to be a **statistician or data scientist without coding or doing data analysis**, and I explained that while it’s rare, there are exceptions. For example, statisticians might focus on theoretical work, consulting, or using GUI-based tools, and data scientists in managerial roles may not engage in day-to-day coding or data analysis. However, for most roles, **coding and data analysis are essential skills** to succeed and remain competitive in today’s data-driven landscape."
   ]
  },
  {
   "cell_type": "markdown",
   "id": "3898a85f",
   "metadata": {},
   "source": [
    "https://chatgpt.com/share/66ecb6e6-1bfc-8010-b0c1-4f2db3790dcd"
   ]
  },
  {
   "cell_type": "markdown",
   "id": "333112c9",
   "metadata": {},
   "source": [
    "4. Paraphrase the assessments and conclusions of your conversation in the form of a reflection on your current thoughts regarding your potential future career(s) and how you can go about building the skills you need to pursue it<br><br>\n"
   ]
  },
  {
   "cell_type": "markdown",
   "id": "4e3ab9bf",
   "metadata": {},
   "source": [
    "i have barely thoughts on my future career. my plan is to study and to learn more to catch what i am interested in. that i need build many skills from different areas like mathematics and statistics."
   ]
  },
  {
   "cell_type": "markdown",
   "id": "4e57147f",
   "metadata": {},
   "source": [
    "#### 9. Have you reviewed the course [wiki-textbook](https://github.com/pointOfive/stat130chat130/wiki) and interacted with a ChatBot (or, if that wasn't sufficient, real people in the course piazza discussion board or TA office hours) to help you understand all the material in the tutorial and lecture that you didn't quite follow when you first saw it?<br><br>"
   ]
  },
  {
   "cell_type": "markdown",
   "id": "f92f7c43",
   "metadata": {},
   "source": [
    "yes"
   ]
  },
  {
   "cell_type": "code",
   "execution_count": null,
   "id": "f5f8aa5d",
   "metadata": {},
   "outputs": [],
   "source": []
  }
 ],
 "metadata": {
  "kernelspec": {
   "display_name": "Python 3 (ipykernel)",
   "language": "python",
   "name": "python3"
  },
  "language_info": {
   "codemirror_mode": {
    "name": "ipython",
    "version": 3
   },
   "file_extension": ".py",
   "mimetype": "text/x-python",
   "name": "python",
   "nbconvert_exporter": "python",
   "pygments_lexer": "ipython3",
   "version": "3.11.6"
  }
 },
 "nbformat": 4,
 "nbformat_minor": 5
}
