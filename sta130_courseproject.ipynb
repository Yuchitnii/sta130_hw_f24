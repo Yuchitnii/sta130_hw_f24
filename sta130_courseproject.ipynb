{
 "cells": [
  {
   "cell_type": "markdown",
   "id": "00926047",
   "metadata": {},
   "source": [
    "## Analysis 1"
   ]
  },
  {
   "cell_type": "markdown",
   "id": "064ec0a7",
   "metadata": {},
   "source": [
    "##### research question:"
   ]
  },
  {
   "cell_type": "markdown",
   "id": "29748e27",
   "metadata": {},
   "source": [
    "will there be more jobs opportunities in cities with large population?"
   ]
  },
  {
   "cell_type": "markdown",
   "id": "00b3fab3",
   "metadata": {},
   "source": [
    "##### variables:"
   ]
  },
  {
   "cell_type": "markdown",
   "id": "c34aabdb",
   "metadata": {},
   "source": [
    "x = population of the city, y = number of workplace provided by employers, z = number of people finding jobs"
   ]
  },
  {
   "cell_type": "markdown",
   "id": "70409a06",
   "metadata": {},
   "source": [
    "##### analyses we plan on performing:"
   ]
  },
  {
   "cell_type": "markdown",
   "id": "e39ce004",
   "metadata": {},
   "source": [
    "Bar graph. it is effective for analyzing this research question because it allows for direct comparisons of job opportunity rates across cities of varying population sizes. This clear visual comparison helps highlight trends, making it ideal for assessing whether more populous cities tend to offer more job opportunities."
   ]
  },
  {
   "cell_type": "markdown",
   "id": "57466968",
   "metadata": {},
   "source": [
    "we assume that the quality and type of job opportunities are consistent across all cities. which means that all job opportunities, regardless of city size, are similar in terms of sectors, salary levels, and required skills. to address this problem, we need extra data like sector and wage level to confirm if differences in job quality exist. if significant differences are found in these data, control for these factors by analyzing opportunities within similar sectors or job types to create more accurate comparison across the cities."
   ]
  },
  {
   "cell_type": "markdown",
   "id": "68c9e036",
   "metadata": {},
   "source": [
    "##### hypothesis:"
   ]
  },
  {
   "cell_type": "markdown",
   "id": "651eaabb",
   "metadata": {},
   "source": [
    "comparing with cities having smaller populations, cities with larger populations will have a higher number of job opportunities. it can measured by the number of workplaces provided by employers and the number of people who found jobs."
   ]
  },
  {
   "cell_type": "markdown",
   "id": "9b0990f0",
   "metadata": {},
   "source": [
    "## Analysis 2"
   ]
  },
  {
   "cell_type": "markdown",
   "id": "ce1356d1",
   "metadata": {},
   "source": [
    "##### research question:"
   ]
  },
  {
   "cell_type": "markdown",
   "id": "1e44a68f",
   "metadata": {},
   "source": [
    "are people happier without jobs?"
   ]
  },
  {
   "cell_type": "markdown",
   "id": "c74c38e6",
   "metadata": {},
   "source": [
    "##### variables:"
   ]
  },
  {
   "cell_type": "markdown",
   "id": "79cd50b4",
   "metadata": {},
   "source": [
    "x = status of employment, y = rate of happiness"
   ]
  },
  {
   "cell_type": "markdown",
   "id": "24938d52",
   "metadata": {},
   "source": [
    "##### analyses we plan on performing:"
   ]
  },
  {
   "cell_type": "markdown",
   "id": "3e923d46",
   "metadata": {},
   "source": [
    "after defining the hypothesis and collecting data, we choose bar graph to perform a visualization for this research question. the reason we choose bar graph for this research question is that it clearly compares the rate of happiness across different employment statuses. It highlights differences in happiness levels and it effectively communicates results to a broad audience. "
   ]
  },
  {
   "cell_type": "markdown",
   "id": "7e44fe78",
   "metadata": {},
   "source": [
    "in this research question, we assume that all unemployment is voluntary. which is saying that it is not a source of stress or financial hardship, and they don't experience stress from financial instability or societal pressure. to solve this problem, we separate the voluntarily unemployed to one and involuntarily unemployed to another, then we analyze these two groups to see if there are differences in their happiness levels."
   ]
  },
  {
   "cell_type": "markdown",
   "id": "e5741808",
   "metadata": {},
   "source": [
    "##### hypothesis:"
   ]
  },
  {
   "cell_type": "markdown",
   "id": "eec8c168",
   "metadata": {},
   "source": [
    "unemployed people will are having higher rate of happiness compared to employed individuals."
   ]
  },
  {
   "cell_type": "markdown",
   "id": "2685556d",
   "metadata": {},
   "source": [
    "## Analysis 3"
   ]
  },
  {
   "cell_type": "markdown",
   "id": "0403b3f8",
   "metadata": {},
   "source": [
    "##### research question:"
   ]
  },
  {
   "cell_type": "markdown",
   "id": "ebd470f0",
   "metadata": {},
   "source": [
    "is the rate of new business creation higher in cities with larger populations？"
   ]
  },
  {
   "cell_type": "markdown",
   "id": "2d6388e1",
   "metadata": {},
   "source": [
    "##### variables:"
   ]
  },
  {
   "cell_type": "markdown",
   "id": "be2d0d1c",
   "metadata": {},
   "source": [
    "x = city population, y = New Business Creation Rate"
   ]
  },
  {
   "cell_type": "markdown",
   "id": "9db48ad6",
   "metadata": {},
   "source": [
    "##### analyses we plan on performing:"
   ]
  },
  {
   "cell_type": "markdown",
   "id": "8c9570a6",
   "metadata": {},
   "source": [
    "\n",
    "bar graph is useful for this research question because it it easy to make comparison of the new business creation rates with cities of different population sizes. By showing each city’s business creation rate as a bar, it highlights differences between smaller and larger cities."
   ]
  },
  {
   "cell_type": "markdown",
   "id": "814b252e",
   "metadata": {},
   "source": [
    "in this research question, we assume that the economic conditions are similar in these cities. which means that all cities whether they are large or small, the economic factors such as growth rates and market demand could affect new business creation. in order to solve this assumption, we need to collect each cities's data on economic indicators such as GDP growth rate and average income. by knowing these variables in the analysis, we can better ensure that differences in business creation rates."
   ]
  },
  {
   "cell_type": "markdown",
   "id": "cae3b02e",
   "metadata": {},
   "source": [
    "##### hypothesis:"
   ]
  },
  {
   "cell_type": "markdown",
   "id": "a8ff6a97",
   "metadata": {},
   "source": [
    "Cities with larger populations have a higher rate of new business creation compared to cities with smaller populations."
   ]
  },
  {
   "cell_type": "code",
   "execution_count": null,
   "id": "8d51675a",
   "metadata": {},
   "outputs": [],
   "source": []
  }
 ],
 "metadata": {
  "kernelspec": {
   "display_name": "Python 3 (ipykernel)",
   "language": "python",
   "name": "python3"
  },
  "language_info": {
   "codemirror_mode": {
    "name": "ipython",
    "version": 3
   },
   "file_extension": ".py",
   "mimetype": "text/x-python",
   "name": "python",
   "nbconvert_exporter": "python",
   "pygments_lexer": "ipython3",
   "version": "3.11.6"
  }
 },
 "nbformat": 4,
 "nbformat_minor": 5
}
